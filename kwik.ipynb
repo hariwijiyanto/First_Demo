{
  "cells": [
    {
      "cell_type": "code",
      "execution_count": null,
      "metadata": {
        "collapsed": true,
        "id": "yjMIgtKE9Fnw"
      },
      "outputs": [],
      "source": [
        "%cd drive/MyDrive/kwik"
      ]
    },
    {
      "cell_type": "code",
      "execution_count": null,
      "metadata": {
        "id": "dlV6ETnh-fIK"
      },
      "outputs": [],
      "source": [
        "!pip install bit"
      ]
    },
    {
      "cell_type": "code",
      "execution_count": null,
      "metadata": {
        "id": "lOaRFk4g-jEv"
      },
      "outputs": [],
      "source": [
        "!python PubSubs.py 0229DFE4805CD534B91A6289EAEDF7EDC6F158EBA3F00D0DD5BE6FB2F7A72E294D 100000000 129 6000.bin cpub"
      ]
    },
    {
      "cell_type": "code",
      "execution_count": null,
      "metadata": {
        "id": "brjE8tnf-yT7"
      },
      "outputs": [],
      "source": [
        "!python kurang.py"
      ]
    },
    {
      "cell_type": "code",
      "execution_count": null,
      "metadata": {
        "id": "5xSUd03Cst-L"
      },
      "outputs": [],
      "source": [
        "!python tambah.py"
      ]
    },
    {
      "cell_type": "code",
      "execution_count": null,
      "metadata": {
        "id": "UNhtf6snZmPa"
      },
      "outputs": [],
      "source": [
        "!python single.py"
      ]
    },
    {
      "cell_type": "code",
      "execution_count": null,
      "metadata": {
        "id": "P0-8KZBg7aBO"
      },
      "outputs": [],
      "source": [
        "!python Pubadd.py 10 120 tes90.txt cpub"
      ]
    },
    {
      "cell_type": "code",
      "execution_count": null,
      "metadata": {
        "id": "K0uHG4KLLSDc"
      },
      "outputs": [],
      "source": [
        "!cat PubSubs.py"
      ]
    },
    {
      "cell_type": "code",
      "execution_count": null,
      "metadata": {
        "id": "ZFbKpKp6SG9h"
      },
      "outputs": [],
      "source": [
        "!cat test.txt"
      ]
    },
    {
      "cell_type": "code",
      "execution_count": null,
      "metadata": {
        "colab": {
          "base_uri": "https://localhost:8080/"
        },
        "id": "4xKKef8kmyEm",
        "outputId": "91628ec8-617c-423a-d044-344240bec040"
      },
      "outputs": [
        {
          "name": "stdout",
          "output_type": "stream",
          "text": [
            "Writing PubSubs.py\n"
          ]
        }
      ],
      "source": [
        "%%writefile PubSubs.py\n",
        "# python PubSub.py 02DE27F4BBF33E7C4030B32AD4B99CD09B35D130B8F0580F57F2FC2ED77946F51C 100000000 120 tes.bin cpub\n",
        "# 00000000000000000000000000000001FFFFFFFFFFFFFFFFFFFFFFFFFFFFFFFF 02DE27F4BBF33E7C4030B32AD4B99CD09B35D130B8F0580F57F2FC2ED77946F51C tes.bin\n",
        "# 00000000000000000000000000000002A3D70A3D70A3D70A3D70A3D70A3D70A1 02EE88588CC7189EC2CC91901924277DAE22D0F6A5CA07E63FDF017E10140F9EE4 tes1.bin\n",
        "# 0000000000000000000000000000000213D70A3D70A3D70A3D70A3D70A3D70A1 02BD6C9DDCE8E112124F25E5D8C7AEA764ABD68A3A05952931644932BFD0695B5C tes2.bin\n",
        "# 00000000000000000000000000000001C28F5C28F5C28F5C28F5C28F5C28F5C1 02627384D7BA7D5B92FC9D11F8D63E5A7ECBF5264D975BE80155A032D9AAA371DB tesa.bin\n",
        "import bit\n",
        "import hashlib\n",
        "import random\n",
        "import platform\n",
        "from time import time\n",
        "import os\n",
        "import sys\n",
        "import ctypes\n",
        "if len(sys.argv) > 6 or len(sys.argv) < 6:\n",
        "    print('[+] Program Usage.... ')\n",
        "    print('{} <original_pubkey> <num_of_subkeys> <bit_range> <file_name> <output_mode>\\n'.format(sys.argv[0]))\n",
        "    print('Example to create a text File [upub]:\\n{} 02CEB6CBBCDBDF5EF7150682150F4CE2C6F4807B349827DCDBDD1F2EFA885A2630 100000 120 keysub120.txt upub'.format(sys.argv[0]))\n",
        "    print('Example to create a binary File [xpoint]:\\n{} 02CEB6CBBCDBDF5EF7150682150F4CE2C6F4807B349827DCDBDD1F2EFA885A2630 100000 120 keysub120.bin xpoint'.format(sys.argv[0]))\n",
        "    sys.exit()\n",
        "pubkey = sys.argv[1]\n",
        "n = int(sys.argv[2])\n",
        "nbits = int(sys.argv[3])\n",
        "out_file = sys.argv[4]  # False if need to write Text File, line by line\n",
        "out_mode = sys.argv[5]   # upub, cpub, xpoint\n",
        "if out_mode not in ['upub', 'cpub', 'xpoint']:\n",
        "    print('Output Mode not specified. [upub or cpub or xpoint]'); sys.exit()\n",
        "flag_binary_file = False if out_file.split('.')[1] in ['txt','text','asc'] else True\n",
        "if flag_binary_file is True: print('[+] Detecting output file extension. Output will be written as Binary File')\n",
        "else: print('[+] Detecting output file extension. Output will be written as Text File')\n",
        "low = 2**(nbits-1)\n",
        "high = -1+2**nbits\n",
        "diff = high - low\n",
        "flag_write = 'wb' if flag_binary_file else 'w'\n",
        "out = open(out_file, flag_write)\n",
        "###############################################################################\n",
        "if platform.system().lower().startswith('win'):\n",
        "    dllfile = 'ice_secp256k1.dll'\n",
        "    if os.path.isfile(dllfile) == True:\n",
        "        pathdll = os.path.realpath(dllfile)\n",
        "        ice = ctypes.CDLL(pathdll)\n",
        "    else:\n",
        "        print('File {} not found'.format(dllfile))\n",
        "elif platform.system().lower().startswith('lin'):\n",
        "    dllfile = 'ice_secp256k1.so'\n",
        "    if os.path.isfile(dllfile) == True:\n",
        "        pathdll = os.path.realpath(dllfile)\n",
        "        ice = ctypes.CDLL(pathdll)\n",
        "    else:\n",
        "        print('File {} not found'.format(dllfile))\n",
        "else:\n",
        "    print('[-] Unsupported Platform currently for ctypes dll method. Only [Windows and Linux] is working')\n",
        "    sys.exit()\n",
        "#ice = ctypes.CDLL('ice_secp256k1.dll')\n",
        "ice.scalar_multiplication.argtypes = [ctypes.c_char_p, ctypes.c_char_p]            # pvk,ret\n",
        "ice.point_subtraction.argtypes = [ctypes.c_char_p, ctypes.c_char_p, ctypes.c_char_p, ctypes.c_char_p, ctypes.c_char_p] # x1,y1,x2,y2,ret\n",
        "ice.init_secp256_lib()\n",
        "###############################################################################\n",
        "def scalar_multiplication(kk):\n",
        "    res = (b'\\x00') * 65\n",
        "    pass_int_value = hex(kk)[2:].encode('utf8')\n",
        "    ice.scalar_multiplication(pass_int_value, res)\n",
        "    return res\n",
        "def point_subtraction(pubkey1_bytes, pubkey2_bytes):\n",
        "    x1 = pubkey1_bytes[1:33]\n",
        "    y1 = pubkey1_bytes[33:]\n",
        "    x2 = pubkey2_bytes[1:33]\n",
        "    y2 = pubkey2_bytes[33:]\n",
        "    res = (b'\\x00') * 65\n",
        "    ice.point_subtraction(x1, y1, x2, y2, res)\n",
        "    return res\n",
        "def new_pos(full_bytes):\n",
        "    pos = hashlib.sha256(full_bytes).digest()\n",
        "    return pos\n",
        "def fixrange(full_bytes):\n",
        "    t = low + int(full_bytes.hex(), 16) % diff\n",
        "    return t\n",
        "def pub2upub(pub_hex):\n",
        " x = int(pub_hex[2:66],16)\n",
        " if len(pub_hex) < 70:\n",
        "  y = bit.format.x_to_y(x, int(pub_hex[:2],16)%2)\n",
        " else:\n",
        "  y = int(pub_hex[66:],16)\n",
        " return bytes.fromhex('04'+ hex(x)[2:].zfill(64) + hex(y)[2:].zfill(64))\n",
        "def upub2cpub(upub_bytes):\n",
        "    x1 = upub_bytes[1:33]\n",
        "    prefix = str(2 + int(upub_bytes[33:].hex(), 16)%2).zfill(2)\n",
        "    return bytes.fromhex(prefix)+x1\n",
        "###############################################################################\n",
        "st = time()\n",
        "P = pub2upub(pubkey)\n",
        "#key_seed = bytes.fromhex(hex(random.SystemRandom().randint(1,2**256))[2:])\n",
        "key_seed = b''\n",
        "#seed_value = b'\\x01'\n",
        "#random.seed(seed_value)\n",
        "if out_mode == 'upub': size_key = 65\n",
        "if out_mode == 'cpub': size_key = 33\n",
        "if out_mode == 'xpoint': size_key = 32\n",
        "if flag_binary_file:\n",
        "    if out_mode == 'upub': out.write(P)             # Write Orginal Pubkey\n",
        "    if out_mode == 'cpub': out.write(upub2cpub(P))        # Write Orginal Pubkey\n",
        "    if out_mode == 'xpoint': out.write(P[1:33])     # Write Orginal Pubkey\n",
        "else:\n",
        "    if out_mode == 'upub': out.write(P.hex() + '  # Original_Pubkey\\n')\n",
        "    if out_mode == 'cpub': out.write(upub2cpub(P).hex() + '  # Original_Pubkey\\n')\n",
        "    if out_mode == 'xpoint': out.write(P[1:33].hex() + '  # Original_Pubkey\\n')\n",
        "res = bytearray((b'\\x00') * (size_key * n))\n",
        "for m in range(n):\n",
        "    #key_seed = new_pos(key_seed)\n",
        "    #qfix = fixrange(key_seed)\n",
        "    qfix = m * 1\n",
        "    tpub = bytes(bytearray(scalar_multiplication(qfix)))\n",
        "    subP = bytes(bytearray(point_subtraction(P, tpub)))\n",
        "    if out_mode == 'upub':  res[m*size_key:m*size_key+size_key] = bytes(subP)\n",
        "    if out_mode == 'cpub':  res[m*size_key:m*size_key+size_key] = bytes(upub2cpub(subP))\n",
        "    if out_mode == 'xpoint':  res[m*size_key:m*size_key+size_key] = bytes(subP[1:33])\n",
        "    if m%10000==0: print('[+] Finished Total SubKeys # ', m, end= '\\r')\n",
        "    if not flag_binary_file:\n",
        "        if out_mode == 'upub': out.write(bytes(subP).hex() + '  # -' + str(qfix)+'\\n')  # Write text file line by line\n",
        "        if out_mode == 'cpub': out.write(bytes(upub2cpub(subP)).hex() + '  # -' + str(qfix)+'\\n')  # Write text file line by line\n",
        "        if out_mode == 'xpoint': out.write(bytes(subP[1:33]).hex() + '  # -' + str(qfix)+'\\n')  # Write text file line by line\n",
        "if flag_binary_file:\n",
        "    out.write(res)\n",
        "out.flush()\n",
        "os.fsync(out.fileno())\n",
        "out.close()\n",
        "print('[+] Finished Total SubKeys # ', n, end= '\\r')\n",
        "print('[-] Completed in {0:.2f} sec'.format(time() - st))"
      ]
    },
    {
      "cell_type": "code",
      "execution_count": null,
      "metadata": {
        "colab": {
          "base_uri": "https://localhost:8080/"
        },
        "id": "OExI_TFtrYKG",
        "outputId": "f6fd91fa-e781-4f84-eaa0-715b0d2f3601"
      },
      "outputs": [
        {
          "output_type": "stream",
          "name": "stdout",
          "text": [
            "Test Cpub : 2300, 3055895162309521591805852431584512177925, 027482e24cf6972f17c6cbf0cedb3c0ad9205e2d56ecbb3ef1c6e944406fabc99e "
          ]
        }
      ],
      "source": [
        "import bit\n",
        "import hashlib, random\n",
        "import platform\n",
        "from time import time\n",
        "import os\n",
        "import sys\n",
        "import ctypes\n",
        "import multiprocessing\n",
        "\n",
        "nbits = 132\n",
        "low = 2**(nbits-1)\n",
        "high = -1+2**nbits\n",
        "diff = high - low\n",
        "\n",
        "filename = '6000.bin'\n",
        "with open(filename, 'rb') as f:\n",
        "    add = f.read()#.split()7\n",
        "#add = set(add)\n",
        "\n",
        "if platform.system().lower().startswith('win'):\n",
        "    dllfile = 'ice_secp256k1.dll'\n",
        "    if os.path.isfile(dllfile) == True:\n",
        "        pathdll = os.path.realpath(dllfile)\n",
        "        ice = ctypes.CDLL(pathdll)\n",
        "    else:\n",
        "        print('File {} not found'.format(dllfile))\n",
        "\n",
        "elif platform.system().lower().startswith('lin'):\n",
        "    dllfile = 'ice_secp256k1.so'\n",
        "    if os.path.isfile(dllfile) == True:\n",
        "        pathdll = os.path.realpath(dllfile)\n",
        "        ice = ctypes.CDLL(pathdll)\n",
        "    else:\n",
        "        print('File {} not found'.format(dllfile))\n",
        "else:\n",
        "    print('[-] Unsupported Platform currently for ctypes dll method. Only [Windows and Linux] is working')\n",
        "    sys.exit()\n",
        "\n",
        "ice.scalar_multiplication.argtypes = [ctypes.c_char_p, ctypes.c_char_p]            # pvk,ret\n",
        "ice.point_subtraction.argtypes = [ctypes.c_char_p, ctypes.c_char_p, ctypes.c_char_p, ctypes.c_char_p, ctypes.c_char_p]  # x1,y1,x2,y2,ret\n",
        "ice.init_secp256_lib()\n",
        "\n",
        "def scalar_multiplication(kk):\n",
        "    res = (b'\\x00') * 65\n",
        "    pass_int_value = hex(kk)[2:].encode('utf8')\n",
        "    ice.scalar_multiplication(pass_int_value, res)\n",
        "    return res\n",
        "\n",
        "def point_subtraction(pubkey1_bytes, pubkey2_bytes):\n",
        "    x1 = pubkey1_bytes[1:33]\n",
        "    y1 = pubkey1_bytes[33:]\n",
        "    x2 = pubkey2_bytes[1:33]\n",
        "    y2 = pubkey2_bytes[33:]\n",
        "    res = (b'\\x00') * 65\n",
        "    ice.point_subtraction(x1, y1, x2, y2, res)\n",
        "    return res\n",
        "\n",
        "def new_pos(full_bytes):\n",
        "    pos = hashlib.sha256(full_bytes).digest()\n",
        "    return pos\n",
        "\n",
        "def fixrange(full_bytes):\n",
        "    t = low + int(full_bytes.hex(), 16) % diff\n",
        "    return t\n",
        "\n",
        "def pub2upub(pub_hex):\n",
        "    x = int(pub_hex[2:66], 16)\n",
        "    if len(pub_hex) < 70:\n",
        "        y = bit.format.x_to_y(x, int(pub_hex[:2], 16) % 2)\n",
        "    else:\n",
        "        y = int(pub_hex[66:], 16)\n",
        "    return bytes.fromhex('04' + hex(x)[2:].zfill(64) + hex(y)[2:].zfill(64))\n",
        "\n",
        "def upub2cpub(upub_bytes):\n",
        "    x1 = upub_bytes[1:33]\n",
        "    prefix = str(2 + int(upub_bytes[33:].hex(), 16) % 2).zfill(2)\n",
        "    return bytes.fromhex(prefix) + x1\n",
        "\n",
        "def search_for_subkey(m, add, pubkey):\n",
        "    m = 1 #2557120\n",
        "    key_seed = b''\n",
        "    while True:\n",
        "        P = pub2upub(pubkey)\n",
        "        qfix = m * 1329227995784915872903807060280344575\n",
        "        #qfix = (random.randrange(1,10889035741470030830827987437816582766592)) # Use an interval of 1000000 for qfix\n",
        "        key_seed = new_pos(key_seed)\n",
        "        #qfix = fixrange(key_seed)\n",
        "        tpub = bytes(bytearray(scalar_multiplication(qfix)))\n",
        "        subP = bytes(bytearray(point_subtraction(P, tpub)))\n",
        "        cpub = bytes(upub2cpub(subP))\n",
        "        m += 1\n",
        "\n",
        "        msg = 'Test Cpub : {total}, {num}, {password} '.format(total=m, num=qfix, password=bytes(cpub).hex())\n",
        "        sys.stdout.write('\\r' + msg)\n",
        "        sys.stdout.flush()\n",
        "\n",
        "\n",
        "        if cpub in add:\n",
        "            print(\"Winner Found!:{num}, {password} \".format(num=qfix, password=bytes(cpub).hex()))\n",
        "            f = open (u\"Winner.txt\",\"a\")\n",
        "            f.write(\"num:\" + str(qfix) +'\\n' +\n",
        "                    \"cpub:\" + str(bytes(cpub).hex())+ '\\n\\n')\n",
        "            f.close()\n",
        "            break\n",
        "\n",
        "if __name__ == \"__main__\":\n",
        "    pubkey = \"02145d2611c823a396ef6712ce0f712f09b9b4f3135e3e0aa3230fb9b6d08d1e16\"\n",
        "    st = time()\n",
        "    processes = []\n",
        "\n",
        "    num_processes = 2\n",
        "\n",
        "    for i in range(num_processes):\n",
        "        process = multiprocessing.Process(target=search_for_subkey, args=(i, add, pubkey))\n",
        "        processes.append(process)\n",
        "        process.start()\n",
        "\n",
        "    for process in processes:\n",
        "        process.join()\n",
        "\n",
        "    print('[-] Completed in {0:.2f} sec'.format(time() - st))\n",
        "# 10889035741470030830827987437816582766592"
      ]
    }
  ],
  "metadata": {
    "colab": {
      "provenance": [],
      "mount_file_id": "12fWwj3fTHKfoKyti97ZwbdsYjB1xAcwk",
      "authorship_tag": "ABX9TyOXQeSqHrgGZgnxEbITQmv1"
    },
    "kernelspec": {
      "display_name": "Python 3",
      "name": "python3"
    },
    "language_info": {
      "name": "python"
    }
  },
  "nbformat": 4,
  "nbformat_minor": 0
}